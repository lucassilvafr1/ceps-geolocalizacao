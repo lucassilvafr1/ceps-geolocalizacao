{
  "nbformat": 4,
  "nbformat_minor": 0,
  "metadata": {
    "colab": {
      "provenance": [],
      "authorship_tag": "ABX9TyNPjreQtnxOOhS2E6zus2ek"
    },
    "kernelspec": {
      "name": "python3",
      "display_name": "Python 3"
    },
    "language_info": {
      "name": "python"
    }
  },
  "cells": [
    {
      "cell_type": "code",
      "execution_count": null,
      "metadata": {
        "id": "7oQ8YpyH1qDQ"
      },
      "outputs": [],
      "source": [
        "# USE O GOOGLE COLAB\n",
        "# Instale as bibliotecas necessárias\n",
        "!pip install pandas openpyxl requests tqdm\n",
        "\n",
        "import pandas as pd\n",
        "import requests\n",
        "import re\n",
        "import time\n",
        "from tqdm import tqdm\n",
        "\n",
        "# Suba o arquivo da planilha de CEPs\n",
        "from google.colab import files\n",
        "uploaded = files.upload()\n",
        "\n",
        "# Nome do arquivo da planilha que você subiu\n",
        "file_name = list(uploaded.keys())[0]\n",
        "\n",
        "# Leia a planilha de entrada usando pandas, garantindo que os CEPs sejam lidos como strings\n",
        "df = pd.read_excel(file_name, dtype={'CEP': str})\n",
        "\n",
        "# Remova quaisquer caracteres não numéricos dos CEPs, preservando zeros à esquerda\n",
        "df['CEP'] = df['CEP'].apply(lambda x: re.sub(r'\\D', '', str(x)).zfill(8))\n",
        "\n",
        "# Função para obter latitude e longitude usando a API do Nominatim\n",
        "def get_lat_long_nominatim(cep, retries=3, pause=1):\n",
        "    headers = {\n",
        "        \"User-Agent\": \"Colab-geocoder-1.0\"\n",
        "    }\n",
        "    for attempt in range(retries):\n",
        "        try:\n",
        "            url = f\"https://nominatim.openstreetmap.org/search?postalcode={cep}&country=Brazil&format=json&limit=1\"\n",
        "            response = requests.get(url, headers=headers, timeout=10)\n",
        "            data = response.json()\n",
        "            if data:\n",
        "                # Retorna latitude e longitude do primeiro resultado\n",
        "                return float(data[0]['lat']), float(data[0]['lon'])\n",
        "            else:\n",
        "                print(f\"Erro ao processar o CEP {cep}: sem resultados\")\n",
        "                return None, None\n",
        "        except requests.exceptions.RequestException as e:\n",
        "            print(f\"Erro ao processar o CEP {cep} na tentativa {attempt + 1}: {e}\")\n",
        "            time.sleep(pause)\n",
        "    return None, None\n",
        "\n",
        "# Crie duas novas colunas para armazenar as coordenadas, com barra de progresso\n",
        "latitudes = []\n",
        "longitudes = []\n",
        "for cep in tqdm(df['CEP'], desc=\"Processando CEPs\"):\n",
        "    lat, lon = get_lat_long_nominatim(cep)\n",
        "    latitudes.append(lat)\n",
        "    longitudes.append(lon)\n",
        "\n",
        "# Adiciona as colunas de Latitude e Longitude ao DataFrame\n",
        "df['Latitude'] = latitudes\n",
        "df['Longitude'] = longitudes\n",
        "\n",
        "# Substitui vírgulas por pontos para garantir o formato numérico correto\n",
        "df['Latitude'] = df['Latitude'].apply(lambda x: str(x).replace(',', '.') if x is not None else x)\n",
        "df['Longitude'] = df['Longitude'].apply(lambda x: str(x).replace(',', '.') if x is not None else x)\n",
        "\n",
        "# Salve os resultados em uma nova planilha\n",
        "output_file = 'ceps_com_coordenadas_nominatim.xlsx'\n",
        "df.to_excel(output_file, index=False)\n",
        "\n",
        "# Baixe o arquivo resultante\n",
        "files.download(output_file)\n"
      ]
    }
  ]
}